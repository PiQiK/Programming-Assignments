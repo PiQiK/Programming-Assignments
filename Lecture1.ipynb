{
  "metadata": {
    "kernelspec": {
      "name": "python",
      "display_name": "Python (Pyodide)",
      "language": "python"
    },
    "language_info": {
      "codemirror_mode": {
        "name": "python",
        "version": 3
      },
      "file_extension": ".py",
      "mimetype": "text/x-python",
      "name": "python",
      "nbconvert_exporter": "python",
      "pygments_lexer": "ipython3",
      "version": "3.8"
    }
  },
  "nbformat_minor": 5,
  "nbformat": 4,
  "cells": [
    {
      "id": "c8c09738-0ffd-4166-884d-cd13ff674e3b",
      "cell_type": "markdown",
      "source": "**Name:** Carl Dawson R. Tiongco\n\\\n**Course & Year** BSCS-1\n\n# **Assignment**\n\nInstructions:\n- Use latex.\n- Write your latex in jupyter notebook.\n- Push your answer to your github account.\n- Deadline is 2 weeks before finals.\n- Fail to submit 2 weeks before finals is an automatic 5.0 for this assignment.\n- Each problem is 25 points.",
      "metadata": {}
    },
    {
      "id": "5928838d-f490-45df-a3dd-5991fc70d85a",
      "cell_type": "markdown",
      "source": "## Question 1\n\n *Recall the definition of a rational number, denoted as*\n $ \\mathbb{Q} $\n *. Prove that Euler's number*\n $ e = \\Sigma_{k=0}^{\\infty} \\frac{1}{k!} \\notin \\mathbb{Q} $\n *. A factorial is defined as* \n $ k! = (k)(k - 1)(k - 2)(k - 3)...,\\forall k \\in \\mathbb{Z}^+ $\n *, note that*\n $ 0! = 1 $\n *. Furthermore, a sum notation*\n $ e = \\Sigma_{k=0}^{\\infty} k = 0 + 1 + 2 + 3 +....+... $\n",
      "metadata": {}
    },
    {
      "id": "514d2c90-a4d4-4ca3-b231-6398c4ed0078",
      "cell_type": "markdown",
      "source": "### Answer\n\n1. Let's go with Proving by Contradiction, to prove that Euler's number $ e $ is an irrational number.\n\n   Let's assume that $e$ is a rational number, which means that $e$ can be expressed as a fraction $e = \\frac{x}{y}$, wherein $x$ and $y$ are integers and $y \\neq 0$.\n\n2. Recalling that $e$ is the sum of the equation $\\Sigma_{k=0}^{\\infty} \\frac{1}{k!}$. Expounding it would show that:\n\n#### $$e = \\frac{1}{0!} + \\frac{1}{1!} + \\frac{1}{2!} + \\frac{1}{3!} + .... $$\n\n3. Now, let's consider the partial sum of the series:\n\n#### $$S_n = \\frac{1}{0!} + \\frac{1}{1!} + \\frac{1}{2!} + \\frac{1}{3!} + ... + \\frac{1}{n!}$$\n\n   For every integer $n$ that is positive. Given that every term in the sequence is positive, $S_n$\n   is growing and bounded above by $e$, as $n$ approaches infinity, $S_n$ converges to $e$.\n\n4. Now, let's consider the number:\n\n   #### $$y! \\cdot S_n = y! \\cdot \\frac{1}{0!} + \\frac{1}{1!} + \\frac{1}{2!} + \\frac{1}{3!} + .... $$\n\n5. Applying this expression:\n\n   #### $$y! \\cdot S_n = y! + \\frac{y!}{1!} + \\frac{y!}{2!} + \\frac{y!}{3!} + ... + \\frac{y!}{n!}$$\n\n6. In this expression, each term is an integer. Given that $S_n$ converges to $e$, $y! \\cdot S_n$ should be close to $y! \\cdot e = x$. According to this, $x - y! \\cdot S_n$ has to be an extremely small positive number.\n\n  #### $$x - y! \\cdot S_n = x - (y! + \\frac{y!}{1!} + \\frac{y!}{2!} + \\frac{y!}{3!} + ... + \\frac{y!}{n!} )$$ \n  #### $$x - y! \\cdot S_n = (x - y!) + \\frac{y!}{1!} + \\frac{y!}{2!} + \\frac{y!}{3!} + ... + \\frac{y!}{n!}$$ \n  #### $$x - y! \\cdot S_n = x - y! + \\frac{y!}{1!} + \\frac{y!}{2!} + \\frac{y!}{3!} + ... + \\frac{y!}{n!}$$\n\n7. Every element enclosed in parenthesis represents an integer, and every term included in the summation is a fraction with a denominator larger than $1$. Therefore, $x - y! \\cdot S_n$ has to be a positive integer that does not equal $0$.\n\n   This, however, defies the assumption that $e = \\frac{x}{y}$ because $y! \\cdot S_n$ is not precisely equal to $x$, which creates a contradiction as it must be very close to it.\n\n   Thus, the assumption of our $e$ being a rational number is **FALSE**, telling us that $e$ is **irrational**.",
      "metadata": {}
    },
    {
      "id": "21df38f0-8ee6-45b3-a048-e3ead98c1ec6",
      "cell_type": "markdown",
      "source": "## Question 2\n\n*Prove Minkowski's inequality for sums, $\\forall \\ p \\gt 1,(a_k,b_k) \\gt 0$*\n\n### $$[\\Sigma_{k=1}^{n} |a_k + b_k|^p]^{\\frac{1}{p}} \\leq [\\Sigma_{k=1}^{n} |a_k|^p]^{\\frac{1}{p}} + [\\Sigma_{k=1}^{n} |b_k|^p]^{\\frac{1}{p}}$$",
      "metadata": {}
    },
    {
      "id": "4d3d46e6-482a-4451-86a9-1c6e74980085",
      "cell_type": "markdown",
      "source": "### Answer\n\nUsing Hölder's inequality we will prove Minkowski's inequality for sums. \n\nAccording to Hölder's inequality:\\\nFor any $(2)$ sequences of real numbers $(x_k)$ and $(y_k)$ and any $p \\gt 1$ such that $\\frac{1}{p} + \\frac{1}{q} = 1$.\n\n    Such that:\n    \n#### $$[\\Sigma_{k=1}^{n} |x_k + y_k|^p]^{\\frac{1}{p}} \\leq [\\Sigma_{k=1}^{n} |x_k|^p]^{\\frac{1}{p}} + [\\Sigma_{k=1}^{n} |y_k|^p]^{\\frac{1}{p}}$$\n\nBy taking advantage of the relationship between $p$ and $q$, we get:\n\n#### $$[\\Sigma_{k=1}^{n} |x_k + y_k|^p]^{\\frac{1}{p}} \\leq [\\Sigma_{k=1}^{n} |x_k|^p]^{\\frac{1}{p}} + [\\Sigma_{k=1}^{n} |y_k|^p]^{\\frac{p-1}{p}}$$\n\nTake note that:\n\n#### $$\\frac{p-1}{p} = 1 - \\frac{1}{p}$$\n\nAfter applying Hölder's inequality once more, such that $\\frac{p-1}{p}$ is removed:\n\n#### $$[\\Sigma_{k=1}^{n} |y_k|^p]^{\\frac{p-1}{p}} \\leq n^{\\frac{p-1}{p}} [\\Sigma_{k=1}^{n} |y_k|^p]^{\\frac{1}{p}}$$\n\nApplying this back unto the inequality, resulting to:\n\n#### $$ [\\Sigma_{k=1}^{n} |x_k+y_k|^p]^{\\frac{1}{p}} \\leq n^{\\frac{1}{p}}[\\Sigma_{k=1}^{n}|x_k|^p]^{\\frac{1}{p}} + [\\Sigma_{k=1}^{n}|y_k|^p]^{\\frac{1}{p}}$$",
      "metadata": {}
    },
    {
      "id": "ad940b43-094b-41fb-bf2e-0513250fb268",
      "cell_type": "markdown",
      "source": "## Question 3\n\n*Prove the triangle inequality $|x + y| \\leq |x| + |y|, \\forall (x,y) \\in \\mathbb{R}$*",
      "metadata": {}
    },
    {
      "id": "700c1baf-f8c1-4d18-9363-260f8adbc7d2",
      "cell_type": "markdown",
      "source": "### Answer\n\nBased on the definition of absolute value:\n\n#### $$|x| = \\begin{cases} \\ \\ \\ x, \\ \\ \\ x \\geq 0 \\\\ -x, \\ \\ \\  x \\lt 0 \\end{cases}$$\n\n<center>We will need to consider $(4)$ cases or less.</center> \n\n**Cases**\n\n1. $x + y \\geq 0$\n\n    #### $$|x + y| = x + y \\ \\ \\ \\ \\ \\text{and} \\ \\ \\ \\ \\ \\ |x| + |y| = x + y$$\n\n<center>Seeing as both $x$ and $y$ are positive, telling us that $|x + y| = |x| + |y|$ is true.</center>\n\n2. $x + y \\lt 0$\n\n#### $$|x + y| = -(x + y) = -x-y \\ \\ \\ \\ \\ \\text{and} \\ \\ \\ \\ \\ \\ |x| + |y| = -x + (-y)$$\n\n<center>Seeing as both $x$ and $y$ are negative, it tells us that $|x+y| = |x| = |y|$ is also true.</center>\n\n3. $x \\geq 0 \\text{ \\ \\ and \\ \\ } y \\lt 0$\n\n#### $$|x+y| \\leq x - y$$\n\n<center>Considering $|x+y|$ since $x$ and $y$ have opposite signs</center>\n\n\n\\\nFor $x+y \\geq 0$\n\n#### $$x+y \\leq x - y  \\Longrightarrow y \\leq -y$$\n\nFor $x+y \\lt 0$\n\n#### $$ -(x+y) \\leq x - y \\Longrightarrow -x-y \\leq x - y \\Longrightarrow -x \\leq x$$\n\n4. $x \\lt 0, y \\geq 0$\n\n#### $$|x+y| \\leq -x + y$$\n\nFor $x+y \\geq 0$\n\n#### $$x+y \\leq -x+y \\Longrightarrow x \\leq -x$$\n\nFor $x+y \\lt 0$\n\n#### $$ -(x+y) \\leq -x + y \\Longrightarrow -x-y \\leq -x + y \\Longrightarrow -y \\leq y$$\n\nIn every test case that we have conducted, it was shown that $|x + y| \\leq |x| + |y|$, which proves the triangle inequality for $x$ and $y$.",
      "metadata": {}
    },
    {
      "id": "59d5ae41-6cdd-4a4e-93ca-53e74c8a9308",
      "cell_type": "markdown",
      "source": "## Question 4\n\n*Prove Sedrakayan's Lemma $\\forall u_i, v_i \\in \\mathbb{R}^+$*\n\n### $$\\frac{(\\Sigma_{i=1}^{n}u_i)^2}{\\Sigma_{i=1}^{n}v_i} \\leq \\Sigma_{i=1}^{n} \\frac{(u_i)^2}{v_i}$$",
      "metadata": {}
    },
    {
      "id": "5faf60a3-ef70-445b-a6cf-6db783b729dd",
      "cell_type": "markdown",
      "source": "### Answer\n\nWe use Cauchy-Schwarz inequality to prove Sedrakyan's Lemma:\n\n#### $$\\bigg( \\sum_{i=1}^{n} u_i v_i \\bigg)^2 \\leq \\bigg(\\sum_{i=1}^{n} u_{i}^{2} \\bigg) \\bigg(\\sum_{i=1}^{n}v_{i}^{2} \\bigg)$$\n\nDivide both sides by $\\big(\\Sigma_{i=1}^{n}v_{i}^{2}\\big)$\n\n#### $$\\frac{ \\big( \\Sigma_{i=1}^{n}u_i v_i \\big)^2}{ \\big(\\Sigma_{i=1}^{n}v_{i}^{2} \\big)} \\leq \\sum_{i=1}^{n}u_{i}^{2}$$\n\nDivide both sides by $\\big(\\Sigma_{i=1}^{n} u_i \\big)^2$\n\n#### $$\\frac{\\big(\\Sigma_{i=1}^{n}u_i\\big)^2}{\\big(\\Sigma_{i=1}^{n}v_i\\big)} \\leq \\sum_{i=1}^{n} \\frac{u_i^2}{\\big(\\Sigma_{i=1}^{n}u_i\\big)^2}$$\n\nLastly:\n\n#### $$ \\frac{\\big(\\Sigma_{i=1}^{n}u_i\\big)^2}{\\big(\\Sigma_{i=1}^{n}v_i\\big)} \\leq \\sum_{i=1}^{n} \\frac{u_i^2}{v_i}$$\n\n\nCompleting the proof of Sedrakayan's Lemma.",
      "metadata": {}
    },
    {
      "id": "cbed9e1a-c2d5-4ab8-a878-47ef38fe422e",
      "cell_type": "markdown",
      "source": "## Question 5\n\n*Consider the functions $f(x) = 2x + 1, g(x) = 2y - 1, j(x) = |f(x) + g(x)|, \\text{ and } h(x) = j(x)^2$, show for the following inequality that:*\n\n### $$ \\sqrt{|f(x)|^2} \\geq \\sqrt{h(x)} - \\sqrt{|g(x)|^2}, \\forall(x,y) \\in \\mathbb{Z}^+ $$",
      "metadata": {}
    },
    {
      "id": "85a49bf6-5f93-4fbc-929d-097d4d556bb5",
      "cell_type": "markdown",
      "source": "### Answer\n\nSubstitute:\n\n#### $$ \\sqrt{|f(x)|^2} \\geq \\sqrt{|f(x)+g(x)|^2}-\\sqrt{|g(x)|^2} $$\n\nMinkowski's Inequality for sums:\n\n#### $$ |f(x)| \\geq |f(x) + g(x)| - |g(x)| $$\n\nTranspose:\n\n#### $$ |f(x) + |g(x)| \\geq |f(x) + g(x)| $$\n\nRearrange to Triangle Inequality: \n\n#### $$ |f(x)+g(x) \\leq |f(x) +|g(x)| $$\n\nProve with the case: $f(x) \\gt 0$, and $g(x) \\gt 0$, Since $\\forall(x,y) \\in \\mathbb{Z}^+$\n\nLet $|f(x) + g(x)| = f(x) + g(x), \\text{ and } |x| = x, |y| = y$\n\nSubstitute: \n\n#### $$ |f(x) + g(x)| = f(x) + g(x) = |f(x)| + |g(x)| $$\n\nWe've shown that the given inequality holds for all $(x,y) \\in \\mathbb{Z}^+$.",
      "metadata": {}
    },
    {
      "id": "15d4084a-ae78-4744-bc01-5a1e3f04dddf",
      "cell_type": "markdown",
      "source": "## Question 6\n\n*Prove Sedrakayan's Lemma if $u_i, v_i$ are square roots of an even integers:*\n\n### $$ \\frac{\\big(\\Sigma_{i=1}^{n} u_i\\big)^2}{\\Sigma_{i=1}^{n}v_i} \\leq \\Sigma_{i=1}^{n} \\frac{(u_i)^2}{v_i} $$",
      "metadata": {}
    },
    {
      "id": "d723eee2-a1a2-438d-8d82-301e4480e3e2",
      "cell_type": "markdown",
      "source": "## Answer\n\nGiven $u_i$ and #v_i as square roots of even integers, we express $u_i^2$ as $2a_i$ and $v_i$ as $2b_i$, where $a_i$ and $b_i$ are integers.\n\n#### $$u_i^2 = 2a_i v_i = 2b_i$$\n\nUsing the application of Sedrakayan's Lemma to $k_i$ and $l_i$:\n\n#### $$ \\frac{\\big(\\Sigma_{i=1}^{n}k_i\\big)^2}{\\Sigma_{i=1}^{n}l_i} \\leq \\Sigma_{i=1}^{n} \\frac{k_i}{l_i} $$\n\nSubstitute $(k_i,l_i)$ with $(u_i^2,v_i)$:\n\n#### $$ \\frac{\\big(\\Sigma_{i=1}^{n}u_i^2\\big)^2}{\\Sigma_{i=1}^{n}v_i} \\leq \\Sigma_{i=1}^{n} \\frac{u_i^2}{v_i} $$\n\nSubstitute $(u_i^2,v_i)$ with $(2a_i,2b_i)$:\n\n#### $$ \\frac{\\big(\\Sigma_{i=1}^{n}2a_i\\big)^2}{\\Sigma_{i=1}^{n}2b_i} \\leq \\Sigma_{i=1}^{n} \\frac{2a_i}{2b_i} $$\n\nThe sum of the squares is still an even integer:\n\n#### $$ \\frac{(2A)^2}{2B} \\leq \\Sigma_{i=1}^{n}\\frac{2A}{2B} $$\n#### $$ =\\frac{4A^2}{2B} \\leq \\frac{2A}{B} $$\n#### $$ = 2A \\leq 2A $$\n\nTherefore, Sedrakayan's Lemma holds true if $u_i$ and $v_i$ are square roots of even integers.\n\\\nProving Sedrakayan's Lemma under the given conditions.",
      "metadata": {}
    },
    {
      "id": "eeaf4d94-6349-4ff3-b851-85da4f944f4e",
      "cell_type": "code",
      "source": "",
      "metadata": {
        "trusted": true
      },
      "outputs": [],
      "execution_count": null
    }
  ]
}
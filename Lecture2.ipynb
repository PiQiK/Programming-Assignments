{
  "metadata": {
    "kernelspec": {
      "name": "python",
      "display_name": "Python (Pyodide)",
      "language": "python"
    },
    "language_info": {
      "codemirror_mode": {
        "name": "python",
        "version": 3
      },
      "file_extension": ".py",
      "mimetype": "text/x-python",
      "name": "python",
      "nbconvert_exporter": "python",
      "pygments_lexer": "ipython3",
      "version": "3.8"
    }
  },
  "nbformat_minor": 4,
  "nbformat": 4,
  "cells": [
    {
      "cell_type": "markdown",
      "source": "**Name:** Carl Dawson R. Tiongco\n\\\n**Course & Year** BSCS-1\n\n# **Assignment**\n\nInstructions:\n- Use Latex to write your solution.\n- Push your answer to your github account.",
      "metadata": {}
    },
    {
      "cell_type": "markdown",
      "source": "## Task 1: Consider the following experiment\n\n1. The experiment consists of $n$ identical trials.\n2. The outcome of each trial falls into one of $k$ classes or cells.\n3. The probability that the outcome of a single trial falls into cell $i$, is $p_i$,$i = 1,2,...,k$ and remains the same from trial to trial. Notice that $p1+p2+p3+...+p_k=1$.\n4. The trials are independent.\n5. The random variables of interest are $Y_1,Y_2,...,y_K$, where $Y_i$ equals the number of trials for which the outcome falls into cell $i$. Notice that $Y_1+Y_2+Y_3+...+Y_k=n$.\n6. The joint probability distribution $P(y) = \\frac{n!}{y_1!y_2!y_3!...y_n!}P_1^{y_1}P_2^{y_2}P_3^{y_3}....P_n^{y_n}$",
      "metadata": {}
    },
    {
      "cell_type": "markdown",
      "source": "## Question 1 \nShow that the expected value $E[y] = \\Sigma y \\cdot P(y) = n \\cdot p_i$\n",
      "metadata": {}
    },
    {
      "cell_type": "markdown",
      "source": " ### Answer\n\n #### $$E|y| = \\Sigma_y y \\cdot P(y)$$\n\n #### $$ \\Rightarrow E|y| = \\Sigma_y y \\cdot \\big(\\frac{n!}{y_1!y_2!y_3!...y_k!} \\cdot P_1^{y_1}P_2^{y_2}P_3^{y_3}....P_k^{y_k}\\big) $$\n\n #### $$ \\Rightarrow E|y| = \\Sigma_y \\cdot \\frac{n!}{y_1!y_2!y_3!...y_k!} \\cdot \\big(y_1 \\cdot P_1\\big) \\cdot \\big(y_2 \\cdot P_2\\big) \\cdot \\big(y_3 \\cdot P_3\\big)...\\big(y_k \\cdot P_k\\big) $$\n\n #### $$ \\Rightarrow E|y| = \\frac{n!}{y_1!y_2!y_3!...y_k!} \\cdot \\Sigma_y \\big(y_1 \\cdot P_1\\big) \\cdot \\big(y_2 \\cdot P_2\\big) \\cdot \\big(y_3 \\cdot P_3\\big)...\\big(y_k \\cdot P_k\\big) $$\n\n#### $$ \\Rightarrow \\frac{n!}{y_1!y_2!y_3!...y_k!} \\cdot \\big(\\Sigma_{y_1} y_1 \\cdot P_1\\big) \\cdot \\big(\\Sigma_{y_2} y_2 \\cdot P_2\\big) \\cdot \\big(\\Sigma_{y_3} y_3 \\cdot P_3\\big)...\\big(\\Sigma_{y_k} y_k \\cdot P_k\\big) $$\n\n#### $$ \\Rightarrow E|Y_i| = n \\cdot p_i $$\n\n#### $$ \\Rightarrow E|y| = \\frac{n!}{y_1!y_2!y_3!...y_k!} \\cdot \\big(n \\cdot p_1\\big) \\cdot \\big(n \\cdot p_2\\big) \\cdot \\big(n \\cdot p_3\\big)...\\big(n \\cdot p_k\\big) $$\n\n#### $$ \\Rightarrow E|y| = n \\cdot p_1 \\cdot n \\cdot p_2 \\cdot n \\cdot p_3...n \\cdot p_k $$\n\n#### $$ \\Rightarrow E|y| = n\\big(p_1 \\cdot p_2 \\cdot p_3 ... p_k\\big) $$\n\n#### $$ \\Rightarrow E|y| = n \\cdot 1 E|y| = n \\cdot p_i $$\n\nThe expected value $E|y| = \\Sigma y \\cdot P(y)$ is **TRUE**, which is the equivalent to $n \\cdot p_i$. ",
      "metadata": {}
    },
    {
      "cell_type": "markdown",
      "source": "## Question 2\nGiven the following data\n\\begin{gather}\n\\begin{bmatrix}\n\\begin{array}{c|c}\nAge & Proportion\\\\\n18-24 & 0.18\\\\\n25-34 & 0.23 \\\\\n35-44 & 0.16 \\\\\n45-64 & 0.27 \\\\\n65-100 & 0.16 \\\\\n\\end{array}\n\\end{bmatrix}\n\\end{gather}\n\nIf 500 adults are sampled randomly, find the probability rhat the sample contains 100 person between 18 and 24, 200 between, 200 between the ages of 25 and 34, and 200 between the ages of 45 and 64.. What is the expected value for to obtain a person in the 65 and above?",
      "metadata": {}
    },
    {
      "cell_type": "markdown",
      "source": "### Answer \n\n $$ n = 500\\big(\\text{Total Number of Adults Sampled}\\big) $$\n $$ p_65 - 100 = 0.16 \\big(\\text{Probability of obtaining a person aged 65 and above}\\big) $$\n\nFormula: \n\n#### $$ E|Y_{65+}| = 500 $n$ \\cdot p_65-100 $$\n\n#### $$ \\Rightarrow E|Y_{65+}| = 500 \\cdot 0.16 E|Y_65+| = 80 $$\n\nGiven the sample size of adults, the expected value of obtaining a person aged $65$ and $100$ is $80$.",
      "metadata": {}
    },
    {
      "cell_type": "markdown",
      "source": "## Task 2: Consider the following experiment\n\n1. The experiment consists of $n$ identical trials.\n2. Each trial results in one of two outcomes: success, $S$, or failure $F$.\n3. The probability of success on a single trial is equal to some value $p$ and remains the same from trial to trial. The probability of a failure is equal to $q = (1- p)$.\n4. The trials are independent.\n5. The random variable of interest is $Y$ , the number of successes observed during the $n$ trials.",
      "metadata": {}
    },
    {
      "cell_type": "markdown",
      "source": "## Question 1\nFrom the following steps shown above, derive the probability distribution of the experiment.",
      "metadata": {}
    },
    {
      "cell_type": "markdown",
      "source": "### Answer\n\nThe probability distribution of $Y$ follows the binomial distribution, which can be calculated using the binomial probability mass function:\n\n#### $$ P \\big(Y=y \\big) = \\dbinom{n}{y} \\cdot p^y \\cdot q^{n-y} $$\n\nIn which:\n\n$P \\big(Y=y \\big)$ is the probabiltiy of observing $y$ successes in $n$ trials. $\\dbinom{n}{y}$ is the binomial coefficient, representing the number of ways to choose $y$ successes out of $n$ trials. $p^y$ represents the probability of having $y$ successes. $q^{n-y}$ represents the probability of having $(n-y)$ failures.",
      "metadata": {}
    },
    {
      "cell_type": "markdown",
      "source": "## Question 2\n\nShow that the expectation of this probability distribution is $ E|y| = \\Sigma y \\cdot P(y) = np$.",
      "metadata": {}
    },
    {
      "cell_type": "markdown",
      "source": "#### $$ E|y| = \\Sigma_{y=0}^n \\cdot P(y) $$\n\n#### $$ \\Rightarrow E|y| = \\Sigma_{y=0}^n \\cdot \\dbinom{n}{y} \\cdot p^y \\cdot q^{n-y} $$\n\n#### $$ \\Rightarrow E|y| = \\Sigma_{y=0}^n \\frac{n!}{y!(n-y)!} \\cdot (p)^y \\cdot (1-p)^{(n-y)} $$\n\n#### $$ \\Rightarrow E|y| = np\\Sigma_{y=0}^n \\frac{(n-1)!}{(y-1)!(n-y)!} \\cdot (p)^{(y-1)} \\cdot (1-p)^{(n-y)} $$\n\n#### $$ \\Rightarrow E|y| = np\\Sigma_{y=1}^n \\frac{(n-1)!}{(y-1)!(n-y)!} \\cdot (p)^{(y-1)} \\cdot (1-p)^{(n-y)} $$\n\n#### $$ \\Rightarrow (x + y)^n = \\Sigma_{k=0}^n \\dbinom{n}{k} x^k y^{n-k} $$\n\n#### $$ \\Rightarrow (p + q)^{n-1} = \\Sigma_{k=0}^{n-1} \\dbinom{n-1}{y} \\cdot (p)^{(k)} \\cdot (q)^{(n-1-k)} $$\n\n#### $$ \\Rightarrow (p + q)^{n-1} = \\Sigma_{k=0}^n \\frac{(n-1)!}{(y)!(n-y)!} \\cdot (p)^{(y)} \\cdot (q)^{(n-y)} $$\n\n#### $$ \\Rightarrow E|y| = np \\cdot 1 \\Longrightarrow E|y| = np$$\n\n$E|y| = np$ confirms that the mean is equal to the product of the number of trials and the probability of success.",
      "metadata": {}
    },
    {
      "cell_type": "markdown",
      "source": "## Question 3\nExperience has shown that 30% of all persons afflicted by a certain illness recover. A drug company has developed a new medication. Ten people with the illness were selected at random and received the medication; nine recovered shortly thereafter. Suppose that the medication was absolutely worthless. What is the probability that at least nine of ten receiving the medication will recover?",
      "metadata": {}
    },
    {
      "cell_type": "markdown",
      "source": "### Answer\n\n- $p=0.30(\\text{probability of success on a single trial})$\n- $n=10(\\text{number of trials})$\n- $k=9(\\text{number of successes})$\n\n#### $$ P(Y \\geq 9) = P(Y=9) + P(Y=10) $$\n#### $$ P(Y \\geq 9) = \\dbinom{10}{9} \\cdot (0.30)^9 \\cdot (1-0.30)^{10-9} + \\dbinom{10}{10} \\cdot (1-0.30)^{10-10}\\\\ $$\n#### $$ P(Y \\geq 9) =10 \\cdot(0.30)^9 \\cdot (0.70)^1 + 1 \\cdot (0.30)^{10} \\cdot (0.70)^0 $$\n#### $$ P(Y \\geq 9) =0.000137781 + 0.0000059049 $$\n#### $$ P(Y \\geq 9) \\approx 0.0001436869 \\text{ or } 0.014% $$\n\n$0.014%$ is the probability that atleast nine$(9)$ out of ten$(10)$ receiving medication will recover.",
      "metadata": {}
    },
    {
      "cell_type": "markdown",
      "source": "## Question 4\nSuppose that a lot of 5000 electrical fuses contains 5% defectives. If a sample of 5 fuses is tested, find the probability of observing at least one defective.",
      "metadata": {}
    },
    {
      "cell_type": "markdown",
      "source": "### Answer\n\n- $p=0.95(\\text{probability of success})$\n- $n=5(\\text{number of trials})$\n\nFinding the probability of none defective fuses:\n\n#### $$ P(\\text{atleast one defective}) = 1 - P(\\text{none defective}) \\text{ or } P(\\text{atleast one defective}) = 1-P(Y=0) $$\n\nUsing the binomial probability mass function:\n\n#### $$ P(Y=0) = \\dbinom{5}{0} \\cdot (0.50)^0 \\cdot (1-0.05)^{5-0} $$\n#### $$ P(Y=0) = (0.95)^5 $$\n#### $$ P(\\text{atleast one defective}) = 1 -(0.95)^5 $$\n#### $$ P(\\text{atleast one defective}) \\approx 1 -0.7738 $$\n#### $$ P(\\text{atleast one defective}) \\approx 0.2262 $$\n\nHence, the probability of observing at least one defective fuse in a sample of $(5)$ fuses is approximately $0.2262$ or $22.62%$.",
      "metadata": {}
    },
    {
      "cell_type": "markdown",
      "source": "## Task 3: Consider a probability distribution of $p(y) = \\frac{\\lambda^y}{y!} e^{-\\lambda}$.",
      "metadata": {}
    },
    {
      "cell_type": "markdown",
      "source": "## Question 1\nFind a general formula for the expected value of this distribution.",
      "metadata": {}
    },
    {
      "cell_type": "markdown",
      "source": "### Answer\n\n#### $$ p(y) = \\frac{\\lambda^y}{y!}e^{-\\lambda} $$\n#### $$ E|Y| = \\Sigma_{y=0}^{\\infty} y \\cdot p(y) $$\n#### $$ E|Y| = \\Sigma_{y=0}^{\\infty} y \\cdot \\frac{\\lambda^y}{y!}e^{-\\lambda} $$\n#### $$ E|Y| = e^{-\\lambda}\\Sigma_{y=0}^{\\infty} \\frac{\\lambda^y}{(y-1)!} $$\n#### $$ E|Y| = e^{-\\lambda}\\Sigma_{y=1}^{\\infty} \\frac{\\lambda^y}{(y-1)!} $$\n#### $$ E|Y| = e^{-\\lambda}\\Sigma_{y=1}^{\\infty} \\frac{\\lambda^{(y-1)+1}}{(y-1)!} $$\n#### $$ E|Y| = e^{-\\lambda}\\Sigma_{y=0}^{\\infty} \\frac{\\lambda^{y+1}}{y!} $$\n#### $$ E|Y| = e^{-\\lambda}\\lambda\\Sigma_{y=0}^{\\infty} \\frac{\\lambda^{y}}{y!} $$\n#### $$ E|Y| = e^{-\\lambda}\\lambda e^\\lambda $$\n#### $$ E|Y| = \\lambda $$",
      "metadata": {}
    },
    {
      "cell_type": "markdown",
      "source": "## Question 2\nA certain type of tree has seedlings randomly dispersed in a large area, with the mean density of seedlings being approximately five per square yard. If a forester randomly locates ten 1-square-yard sampling regions in the area, find the probability that none of the regions will contain seedlings.",
      "metadata": {}
    },
    {
      "cell_type": "markdown",
      "source": "### Answer \n\n$\\lambda = 5$\n\n#### $$ P(Y=y) = \\frac{\\lambda^y}{y!} e^{-\\lambda}\n\n$y=0$\n\n#### $$ P(Y=0) = \\frac{5^0}{0!}e^{-5} = e^{-5} $$\n\n#### $$ P(Y=0) \\approx e^{-5} $$\n#### $$ \\approx 0.006737947 $$\n\nThe probability of none of the regions containing seedlings is approximately $0.0067$ or $0.67%$.",
      "metadata": {}
    },
    {
      "cell_type": "code",
      "source": "",
      "metadata": {
        "trusted": true
      },
      "outputs": [],
      "execution_count": null
    }
  ]
}
{
  "metadata": {
    "kernelspec": {
      "name": "python",
      "display_name": "Python (Pyodide)",
      "language": "python"
    },
    "language_info": {
      "codemirror_mode": {
        "name": "ipython",
        "version": 3
      },
      "file_extension": ".py",
      "mimetype": "text/x-python",
      "name": "python",
      "nbconvert_exporter": "python",
      "pygments_lexer": "ipython3",
      "version": "3.11.7"
    }
  },
  "nbformat_minor": 4,
  "nbformat": 4,
  "cells": [
    {
      "cell_type": "markdown",
      "source": "**Name:** Carl Dawson R. Tiongco\n\\\n**Course & Year** BSCS-1\n\n# Assignment\n\nInstructions:\n1. Kruskal's Algorithm\n2. Prim's Algorithm\n3. Djitraka's Shortest Path Algorithm\n\nGiven the following graph, implement the algorithm in Python.",
      "metadata": {}
    },
    {
      "cell_type": "code",
      "source": "import matplotlib.pyplot as plt\nimport networkx as nx\nseed = 55\n\nG = nx.Graph()\nplt.figure(figsize=(10, 8))\n\nG.add_nodes_from([\"A\",\"B\",\"C\",\"D\",\"E\",\"F\",\"G\"])\n\nedgelist = [(\"A\",\"C\"),(\"A\",\"I\"),(\"C\",\"B\"),(\"C\",\"E\"),(\"C\",\"D\"),(\"B\",\"E\"),(\"I\",\"E\"),(\"E\",\"F\"),(\"F\",\"G\"),(\"G\",\"E\")]\nG.add_edges_from(edgelist)\npos = nx.planar_layout(G)  \nnx.draw_networkx_edge_labels(\n    G, pos,\n    edge_labels={(\"A\",\"C\"):10,(\"A\",\"I\"):5,(\"C\",\"B\"):20,(\"C\",\"E\"):15,(\"C\",\"D\"):30,(\"B\",\"E\"):25,(\"I\",\"E\"):40,(\"E\",\"F\"):35,(\"F\",\"G\"):50,(\"G\",\"E\"):45},\n    font_color='red'\n)\nnx.draw(G, pos=pos,with_labels=True)\nnx.draw(\n    G, pos, edge_color='black', width=1, linewidths=1,\n    node_size=500, node_color='pink', alpha=0.9,\n    with_labels=True)\n\nplt.show()",
      "metadata": {
        "trusted": true
      },
      "outputs": [],
      "execution_count": null
    },
    {
      "cell_type": "markdown",
      "source": "# Kruskal's Algorithm",
      "metadata": {}
    },
    {
      "cell_type": "code",
      "source": "import networkx as nx\nimport matplotlib.pyplot as plt\n\n\nG = nx.Graph()\n\nG.add_nodes_from([\"A\", \"B\", \"C\", \"D\", \"E\", \"F\", \"G\", \"I\"])\n\nedges_with_weights = [\n    (\"A\", \"C\", 10), (\"A\", \"I\", 5), (\"C\", \"B\", 20), (\"C\", \"E\", 15),\n    (\"C\", \"D\", 30), (\"B\", \"E\", 25), (\"I\", \"E\", 40), (\"E\", \"F\", 35),\n    (\"F\", \"G\", 50), (\"G\", \"E\", 45)\n]\n\nG.add_weighted_edges_from(edges_with_weights)\n\nmst = nx.minimum_spanning_tree(G, algorithm='kruskal')\n\nplt.figure(figsize=(10, 8))\npos = nx.planar_layout(G)\nnx.draw(G, pos, with_labels=True, node_color='pink', node_size=500, edge_color='black')\nnx.draw_networkx_edge_labels(G, pos, edge_labels={edge[:2]: edge[2] for edge in edges_with_weights}, font_color='red')\nplt.title(\"Original Graph with Edge Weights\")\nplt.show()\n\nplt.figure(figsize=(10, 8))\nnx.draw(mst, pos, with_labels=True, node_color='lightgreen', node_size=500, edge_color='blue')\nnx.draw_networkx_edge_labels(mst, pos, edge_labels={(u, v): d['weight'] for u, v, d in mst.edges(data=True)}, font_color='red')\nplt.title(\"Minimum Spanning Tree using Kruskal's Algorithm\")\nplt.show()",
      "metadata": {
        "trusted": true
      },
      "outputs": [],
      "execution_count": null
    },
    {
      "cell_type": "markdown",
      "source": "# Prim's Algorithm",
      "metadata": {}
    },
    {
      "cell_type": "code",
      "source": "import networkx as nx\nimport matplotlib.pyplot as plt\n\n\nG = nx.Graph()\n\n\nG.add_nodes_from([\"A\", \"B\", \"C\", \"D\", \"E\", \"F\", \"G\", \"I\"])\n\n\nedges_with_weights = [\n    (\"A\", \"C\", 10), (\"A\", \"I\", 5), (\"C\", \"B\", 20), (\"C\", \"E\", 15),\n    (\"C\", \"D\", 30), (\"B\", \"E\", 25), (\"I\", \"E\", 40), (\"E\", \"F\", 35),\n    (\"F\", \"G\", 50), (\"G\", \"E\", 45)\n]\n\nG.add_weighted_edges_from(edges_with_weights)\n\n\nmst = nx.minimum_spanning_tree(G, algorithm='prim')\n\nplt.figure(figsize=(10, 8))\npos = nx.planar_layout(G)\nnx.draw(G, pos, with_labels=True, node_color='pink', node_size=500, edge_color='black')\nnx.draw_networkx_edge_labels(G, pos, edge_labels={edge[:2]: edge[2] for edge in edges_with_weights}, font_color='red')\nplt.title(\"Original Graph with Edge Weights\")\nplt.show()\n\nplt.figure(figsize=(10, 8))\nnx.draw(mst, pos, with_labels=True, node_color='lightgreen', node_size=500, edge_color='blue')\nnx.draw_networkx_edge_labels(mst, pos, edge_labels={(u, v): d['weight'] for u, v, d in mst.edges(data=True)}, font_color='red')\nplt.title(\"Minimum Spanning Tree using Prim's Algorithm\")\nplt.show()",
      "metadata": {
        "trusted": true
      },
      "outputs": [],
      "execution_count": null
    },
    {
      "cell_type": "markdown",
      "source": "# Djitraka's Shortest Path Algorithm\n",
      "metadata": {}
    },
    {
      "cell_type": "code",
      "source": "import networkx as nx\nimport matplotlib.pyplot as plt\n\nG = nx.Graph()\n\n\nG.add_nodes_from([\"A\", \"B\", \"C\", \"D\", \"E\", \"F\", \"G\", \"I\"])\n\nedges_with_weights = [\n    (\"A\", \"C\", 10), (\"A\", \"I\", 5), (\"C\", \"B\", 20), (\"C\", \"E\", 15),\n    (\"C\", \"D\", 30), (\"B\", \"E\", 25), (\"I\", \"E\", 40), (\"E\", \"F\", 35),\n    (\"F\", \"G\", 50), (\"G\", \"E\", 45)\n]\n\nG.add_weighted_edges_from(edges_with_weights)\n\n\nsource_node = \"A\"\n\n\nshortest_paths = nx.single_source_dijkstra_path(G, source=source_node)\nshortest_path_lengths = nx.single_source_dijkstra_path_length(G, source=source_node)\n\n\nprint(f\"Shortest paths from node {source_node}:\")\nfor target_node, path in shortest_paths.items():\n    print(f\"To {target_node}: {path}, Length: {shortest_path_lengths[target_node]}\")\n\nplt.figure(figsize=(10, 8))\npos = nx.planar_layout(G)\nnx.draw(G, pos, with_labels=True, node_color='pink', node_size=500, edge_color='black')\nnx.draw_networkx_edge_labels(G, pos, edge_labels={edge[:2]: edge[2] for edge in edges_with_weights}, font_color='red')\nplt.title(\"Original Graph with Edge Weights\")\nplt.show()\n\nfor target_node, path in shortest_paths.items():\n    path_edges = list(zip(path, path[1:]))\n    plt.figure(figsize=(10, 8))\n    nx.draw(G, pos, with_labels=True, node_color='pink', node_size=500, edge_color='black', alpha=0.3)\n    nx.draw_networkx_edges(G, pos, edgelist=path_edges, edge_color='blue', width=2)\n    nx.draw_networkx_edge_labels(G, pos, edge_labels={edge[:2]: edge[2] for edge in edges_with_weights}, font_color='red')\n    nx.draw_networkx_nodes(G, pos, nodelist=path, node_color='lightgreen', node_size=700)\n    plt.title(f\"Shortest Path from {source_node} to {target_node}\")\n    plt.show()",
      "metadata": {
        "trusted": true
      },
      "outputs": [],
      "execution_count": null
    },
    {
      "cell_type": "code",
      "source": "",
      "metadata": {
        "trusted": true
      },
      "outputs": [],
      "execution_count": null
    }
  ]
}